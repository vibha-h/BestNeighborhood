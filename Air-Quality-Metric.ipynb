{
 "cells": [
  {
   "cell_type": "code",
   "execution_count": 24,
   "metadata": {},
   "outputs": [],
   "source": [
    "import pandas as pd"
   ]
  },
  {
   "cell_type": "code",
   "execution_count": 35,
   "metadata": {},
   "outputs": [],
   "source": [
    "dataset =  pd.read_csv(\"Air-Quality.csv\", sep=\",\")"
   ]
  },
  {
   "cell_type": "markdown",
   "metadata": {},
   "source": [
    "First, we read in the dataset. Here is an example of the contents of the dataset: "
   ]
  },
  {
   "cell_type": "code",
   "execution_count": 36,
   "metadata": {},
   "outputs": [
    {
     "data": {
      "text/html": [
       "<div>\n",
       "<style scoped>\n",
       "    .dataframe tbody tr th:only-of-type {\n",
       "        vertical-align: middle;\n",
       "    }\n",
       "\n",
       "    .dataframe tbody tr th {\n",
       "        vertical-align: top;\n",
       "    }\n",
       "\n",
       "    .dataframe thead th {\n",
       "        text-align: right;\n",
       "    }\n",
       "</style>\n",
       "<table border=\"1\" class=\"dataframe\">\n",
       "  <thead>\n",
       "    <tr style=\"text-align: right;\">\n",
       "      <th></th>\n",
       "      <th>_id</th>\n",
       "      <th>date</th>\n",
       "      <th>site</th>\n",
       "      <th>parameter</th>\n",
       "      <th>index_value</th>\n",
       "      <th>description</th>\n",
       "      <th>health_advisory</th>\n",
       "      <th>health_effects</th>\n",
       "    </tr>\n",
       "  </thead>\n",
       "  <tbody>\n",
       "    <tr>\n",
       "      <th>53204</th>\n",
       "      <td>57274</td>\n",
       "      <td>2022-07-29</td>\n",
       "      <td>Liberty 2</td>\n",
       "      <td>PM25T</td>\n",
       "      <td>43</td>\n",
       "      <td>Good</td>\n",
       "      <td>NaN</td>\n",
       "      <td>NaN</td>\n",
       "    </tr>\n",
       "    <tr>\n",
       "      <th>7731</th>\n",
       "      <td>7732</td>\n",
       "      <td>2016-12-22</td>\n",
       "      <td>Parkway East</td>\n",
       "      <td>CO</td>\n",
       "      <td>11</td>\n",
       "      <td>Good</td>\n",
       "      <td>NaN</td>\n",
       "      <td>NaN</td>\n",
       "    </tr>\n",
       "    <tr>\n",
       "      <th>15246</th>\n",
       "      <td>15247</td>\n",
       "      <td>2017-11-25</td>\n",
       "      <td>North Braddock</td>\n",
       "      <td>SO2</td>\n",
       "      <td>92</td>\n",
       "      <td>Moderate</td>\n",
       "      <td>NaN</td>\n",
       "      <td>NaN</td>\n",
       "    </tr>\n",
       "    <tr>\n",
       "      <th>55511</th>\n",
       "      <td>63077</td>\n",
       "      <td>2022-11-12</td>\n",
       "      <td>North Braddock</td>\n",
       "      <td>SO2</td>\n",
       "      <td>0</td>\n",
       "      <td>Good</td>\n",
       "      <td>NaN</td>\n",
       "      <td>NaN</td>\n",
       "    </tr>\n",
       "    <tr>\n",
       "      <th>22293</th>\n",
       "      <td>22294</td>\n",
       "      <td>2018-10-03</td>\n",
       "      <td>Lawrenceville 2</td>\n",
       "      <td>SO2</td>\n",
       "      <td>0</td>\n",
       "      <td>Good</td>\n",
       "      <td>NaN</td>\n",
       "      <td>NaN</td>\n",
       "    </tr>\n",
       "    <tr>\n",
       "      <th>28587</th>\n",
       "      <td>28588</td>\n",
       "      <td>2019-06-26</td>\n",
       "      <td>West Mifflin</td>\n",
       "      <td>SO2</td>\n",
       "      <td>6</td>\n",
       "      <td>Good</td>\n",
       "      <td>NaN</td>\n",
       "      <td>NaN</td>\n",
       "    </tr>\n",
       "    <tr>\n",
       "      <th>54016</th>\n",
       "      <td>58843</td>\n",
       "      <td>2022-09-04</td>\n",
       "      <td>Lawrenceville</td>\n",
       "      <td>OZONE</td>\n",
       "      <td>31</td>\n",
       "      <td>Good</td>\n",
       "      <td>NaN</td>\n",
       "      <td>NaN</td>\n",
       "    </tr>\n",
       "    <tr>\n",
       "      <th>62313</th>\n",
       "      <td>73166</td>\n",
       "      <td>2023-09-19</td>\n",
       "      <td>Glassport High Street</td>\n",
       "      <td>PM10</td>\n",
       "      <td>14</td>\n",
       "      <td>Good</td>\n",
       "      <td>NaN</td>\n",
       "      <td>NaN</td>\n",
       "    </tr>\n",
       "    <tr>\n",
       "      <th>15996</th>\n",
       "      <td>15997</td>\n",
       "      <td>2017-12-27</td>\n",
       "      <td>Lawrenceville 2</td>\n",
       "      <td>SO2</td>\n",
       "      <td>2</td>\n",
       "      <td>Good</td>\n",
       "      <td>NaN</td>\n",
       "      <td>NaN</td>\n",
       "    </tr>\n",
       "    <tr>\n",
       "      <th>44565</th>\n",
       "      <td>44566</td>\n",
       "      <td>2021-06-10</td>\n",
       "      <td>Avalon</td>\n",
       "      <td>PM25T</td>\n",
       "      <td>43</td>\n",
       "      <td>Good</td>\n",
       "      <td>NaN</td>\n",
       "      <td>NaN</td>\n",
       "    </tr>\n",
       "  </tbody>\n",
       "</table>\n",
       "</div>"
      ],
      "text/plain": [
       "         _id        date                   site parameter  index_value  \\\n",
       "53204  57274  2022-07-29              Liberty 2     PM25T           43   \n",
       "7731    7732  2016-12-22           Parkway East        CO           11   \n",
       "15246  15247  2017-11-25         North Braddock       SO2           92   \n",
       "55511  63077  2022-11-12         North Braddock       SO2            0   \n",
       "22293  22294  2018-10-03        Lawrenceville 2       SO2            0   \n",
       "28587  28588  2019-06-26           West Mifflin       SO2            6   \n",
       "54016  58843  2022-09-04          Lawrenceville     OZONE           31   \n",
       "62313  73166  2023-09-19  Glassport High Street      PM10           14   \n",
       "15996  15997  2017-12-27        Lawrenceville 2       SO2            2   \n",
       "44565  44566  2021-06-10                 Avalon     PM25T           43   \n",
       "\n",
       "      description health_advisory health_effects  \n",
       "53204        Good             NaN            NaN  \n",
       "7731         Good             NaN            NaN  \n",
       "15246    Moderate             NaN            NaN  \n",
       "55511        Good             NaN            NaN  \n",
       "22293        Good             NaN            NaN  \n",
       "28587        Good             NaN            NaN  \n",
       "54016        Good             NaN            NaN  \n",
       "62313        Good             NaN            NaN  \n",
       "15996        Good             NaN            NaN  \n",
       "44565        Good             NaN            NaN  "
      ]
     },
     "execution_count": 36,
     "metadata": {},
     "output_type": "execute_result"
    }
   ],
   "source": [
    "dataset.sample(10)"
   ]
  },
  {
   "cell_type": "markdown",
   "metadata": {},
   "source": [
    "To find the best neighborhood in Pittsburgh with the metric of air quality, we will be evaluating the Air Quality Index for each parameter. The Air Quality Index(AQI) is a standard measurement developed by government agencies to communicate to the public how polluted the air is. The higher the number, the more polluted the air is. \n",
    "\n",
    "As you can see, there are different parameters and AQI measurements for each. Examples of this include ozone, CO, NO2, and SO2. \n",
    "\n",
    "The most dangerous air pollutant is NO2, Nitrogen Oxides. However, the top 5 most dangerous are NO2, Particulate Matter (PM10 and PM2.5), Ozone, Carbon Monoxide (CO), and Sulfur Dioxide (SO2).\n",
    "\n",
    "We will be evaluating the best neighborhood by this metric to see which neighborhood has the lowest average AQI for all five types of air pollutants. "
   ]
  },
  {
   "cell_type": "code",
   "execution_count": 64,
   "metadata": {},
   "outputs": [
    {
     "name": "stdout",
     "output_type": "stream",
     "text": [
      "['Harrison Township' 'Parkway East']\n"
     ]
    }
   ],
   "source": [
    "#sort by NO2\n",
    "NO2_query = dataset['parameter'] == \"NO2\"\n",
    "\n",
    "#sort by indices less than 10\n",
    "lessThanTen_query = dataset['index_value'] < 10\n",
    "\n",
    "\n",
    "#find both these qualities in dataset items\n",
    "items = dataset[NO2_query & lessThanTen_query]\n",
    "\n",
    "#sort by index value\n",
    "sortedItems= items.sort_values(by='index_value')\n",
    "\n",
    "#sort by unique site names\n",
    "unique_query= sortedItems['site'].unique()\n",
    "\n",
    "#print the sites with the lowest NO2 scores that are unique\n",
    "print(unique_query)"
   ]
  },
  {
   "cell_type": "markdown",
   "metadata": {},
   "source": [
    "## The two neighborhoods with the lowest Nitrogen Oxide scores are: \n",
    "1. Harrison Township\n",
    "2. Parkway East"
   ]
  },
  {
   "cell_type": "markdown",
   "metadata": {},
   "source": []
  },
  {
   "cell_type": "code",
   "execution_count": null,
   "metadata": {},
   "outputs": [],
   "source": []
  },
  {
   "cell_type": "code",
   "execution_count": null,
   "metadata": {},
   "outputs": [],
   "source": []
  },
  {
   "cell_type": "code",
   "execution_count": null,
   "metadata": {},
   "outputs": [],
   "source": []
  },
  {
   "cell_type": "code",
   "execution_count": null,
   "metadata": {},
   "outputs": [],
   "source": []
  },
  {
   "cell_type": "code",
   "execution_count": null,
   "metadata": {},
   "outputs": [],
   "source": []
  }
 ],
 "metadata": {
  "kernelspec": {
   "display_name": "Python 3",
   "language": "python",
   "name": "python3"
  },
  "language_info": {
   "codemirror_mode": {
    "name": "ipython",
    "version": 3
   },
   "file_extension": ".py",
   "mimetype": "text/x-python",
   "name": "python",
   "nbconvert_exporter": "python",
   "pygments_lexer": "ipython3",
   "version": "3.8.3"
  }
 },
 "nbformat": 4,
 "nbformat_minor": 4
}
