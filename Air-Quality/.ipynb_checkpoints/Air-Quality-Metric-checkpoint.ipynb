{
 "cells": [
  {
   "cell_type": "code",
   "execution_count": 1,
   "metadata": {},
   "outputs": [],
   "source": [
    "import pandas as pd"
   ]
  },
  {
   "cell_type": "code",
   "execution_count": 2,
   "metadata": {},
   "outputs": [],
   "source": [
    "dataset = pd.read_csv(\"Air-Quality.csv\", sep=\",\")"
   ]
  },
  {
   "cell_type": "markdown",
   "metadata": {},
   "source": [
    "First, we read in the dataset. Here is an example of the contents of the dataset: "
   ]
  },
  {
   "cell_type": "code",
   "execution_count": 3,
   "metadata": {},
   "outputs": [
    {
     "data": {
      "text/html": [
       "<div>\n",
       "<style scoped>\n",
       "    .dataframe tbody tr th:only-of-type {\n",
       "        vertical-align: middle;\n",
       "    }\n",
       "\n",
       "    .dataframe tbody tr th {\n",
       "        vertical-align: top;\n",
       "    }\n",
       "\n",
       "    .dataframe thead th {\n",
       "        text-align: right;\n",
       "    }\n",
       "</style>\n",
       "<table border=\"1\" class=\"dataframe\">\n",
       "  <thead>\n",
       "    <tr style=\"text-align: right;\">\n",
       "      <th></th>\n",
       "      <th>_id</th>\n",
       "      <th>date</th>\n",
       "      <th>site</th>\n",
       "      <th>parameter</th>\n",
       "      <th>index_value</th>\n",
       "      <th>description</th>\n",
       "      <th>health_advisory</th>\n",
       "      <th>health_effects</th>\n",
       "    </tr>\n",
       "  </thead>\n",
       "  <tbody>\n",
       "    <tr>\n",
       "      <th>48319</th>\n",
       "      <td>49025</td>\n",
       "      <td>2021-12-07</td>\n",
       "      <td>Parkway East</td>\n",
       "      <td>PM25T</td>\n",
       "      <td>36</td>\n",
       "      <td>Good</td>\n",
       "      <td>NaN</td>\n",
       "      <td>NaN</td>\n",
       "    </tr>\n",
       "    <tr>\n",
       "      <th>12617</th>\n",
       "      <td>12618</td>\n",
       "      <td>2017-07-31</td>\n",
       "      <td>South Fayette</td>\n",
       "      <td>OZONE</td>\n",
       "      <td>54</td>\n",
       "      <td>Moderate</td>\n",
       "      <td>Unusually sensitive people should consider red...</td>\n",
       "      <td>Unusually sensitive individuals may experience...</td>\n",
       "    </tr>\n",
       "    <tr>\n",
       "      <th>39753</th>\n",
       "      <td>39754</td>\n",
       "      <td>2020-10-19</td>\n",
       "      <td>Lawrenceville</td>\n",
       "      <td>OZONE</td>\n",
       "      <td>11</td>\n",
       "      <td>Good</td>\n",
       "      <td>NaN</td>\n",
       "      <td>NaN</td>\n",
       "    </tr>\n",
       "    <tr>\n",
       "      <th>54620</th>\n",
       "      <td>60130</td>\n",
       "      <td>2022-10-02</td>\n",
       "      <td>Avalon</td>\n",
       "      <td>PM25_640</td>\n",
       "      <td>18</td>\n",
       "      <td>Good</td>\n",
       "      <td>NaN</td>\n",
       "      <td>NaN</td>\n",
       "    </tr>\n",
       "    <tr>\n",
       "      <th>41839</th>\n",
       "      <td>41840</td>\n",
       "      <td>2021-01-29</td>\n",
       "      <td>Avalon</td>\n",
       "      <td>PM25T</td>\n",
       "      <td>25</td>\n",
       "      <td>Good</td>\n",
       "      <td>NaN</td>\n",
       "      <td>NaN</td>\n",
       "    </tr>\n",
       "    <tr>\n",
       "      <th>2103</th>\n",
       "      <td>2104</td>\n",
       "      <td>2016-04-09</td>\n",
       "      <td>Harrison Township</td>\n",
       "      <td>OZONE</td>\n",
       "      <td>35</td>\n",
       "      <td>Good</td>\n",
       "      <td>NaN</td>\n",
       "      <td>NaN</td>\n",
       "    </tr>\n",
       "    <tr>\n",
       "      <th>11382</th>\n",
       "      <td>11383</td>\n",
       "      <td>2017-06-06</td>\n",
       "      <td>Lawrenceville 2</td>\n",
       "      <td>CO</td>\n",
       "      <td>2</td>\n",
       "      <td>Good</td>\n",
       "      <td>NaN</td>\n",
       "      <td>NaN</td>\n",
       "    </tr>\n",
       "    <tr>\n",
       "      <th>31365</th>\n",
       "      <td>31366</td>\n",
       "      <td>2019-10-16</td>\n",
       "      <td>Flag Plaza</td>\n",
       "      <td>PM10</td>\n",
       "      <td>18</td>\n",
       "      <td>Good</td>\n",
       "      <td>NaN</td>\n",
       "      <td>NaN</td>\n",
       "    </tr>\n",
       "    <tr>\n",
       "      <th>19808</th>\n",
       "      <td>19809</td>\n",
       "      <td>2018-06-14</td>\n",
       "      <td>Flag Plaza</td>\n",
       "      <td>PM10</td>\n",
       "      <td>21</td>\n",
       "      <td>Good</td>\n",
       "      <td>NaN</td>\n",
       "      <td>NaN</td>\n",
       "    </tr>\n",
       "    <tr>\n",
       "      <th>46967</th>\n",
       "      <td>46968</td>\n",
       "      <td>2021-10-03</td>\n",
       "      <td>Pittsburgh</td>\n",
       "      <td>PM25_640</td>\n",
       "      <td>54</td>\n",
       "      <td>Moderate</td>\n",
       "      <td>Unusually sensitive people should consider red...</td>\n",
       "      <td>Respiratory symptoms possible in unusually sen...</td>\n",
       "    </tr>\n",
       "  </tbody>\n",
       "</table>\n",
       "</div>"
      ],
      "text/plain": [
       "         _id        date               site parameter  index_value  \\\n",
       "48319  49025  2021-12-07       Parkway East     PM25T           36   \n",
       "12617  12618  2017-07-31      South Fayette     OZONE           54   \n",
       "39753  39754  2020-10-19      Lawrenceville     OZONE           11   \n",
       "54620  60130  2022-10-02             Avalon  PM25_640           18   \n",
       "41839  41840  2021-01-29             Avalon     PM25T           25   \n",
       "2103    2104  2016-04-09  Harrison Township     OZONE           35   \n",
       "11382  11383  2017-06-06    Lawrenceville 2        CO            2   \n",
       "31365  31366  2019-10-16         Flag Plaza      PM10           18   \n",
       "19808  19809  2018-06-14         Flag Plaza      PM10           21   \n",
       "46967  46968  2021-10-03         Pittsburgh  PM25_640           54   \n",
       "\n",
       "      description                                    health_advisory  \\\n",
       "48319        Good                                                NaN   \n",
       "12617    Moderate  Unusually sensitive people should consider red...   \n",
       "39753        Good                                                NaN   \n",
       "54620        Good                                                NaN   \n",
       "41839        Good                                                NaN   \n",
       "2103         Good                                                NaN   \n",
       "11382        Good                                                NaN   \n",
       "31365        Good                                                NaN   \n",
       "19808        Good                                                NaN   \n",
       "46967    Moderate  Unusually sensitive people should consider red...   \n",
       "\n",
       "                                          health_effects  \n",
       "48319                                                NaN  \n",
       "12617  Unusually sensitive individuals may experience...  \n",
       "39753                                                NaN  \n",
       "54620                                                NaN  \n",
       "41839                                                NaN  \n",
       "2103                                                 NaN  \n",
       "11382                                                NaN  \n",
       "31365                                                NaN  \n",
       "19808                                                NaN  \n",
       "46967  Respiratory symptoms possible in unusually sen...  "
      ]
     },
     "execution_count": 3,
     "metadata": {},
     "output_type": "execute_result"
    }
   ],
   "source": [
    "dataset.sample(10)"
   ]
  },
  {
   "cell_type": "markdown",
   "metadata": {},
   "source": [
    "To find the best neighborhood in Pittsburgh with the metric of air quality, we will be evaluating the Air Quality Index for each parameter. The Air Quality Index(AQI) is a standard measurement developed by government agencies to communicate to the public how polluted the air is. The higher the number, the more polluted the air is. \n",
    "\n",
    "As you can see, there are different parameters and AQI measurements for each. Examples of this include ozone, CO, NO2, and SO2. \n",
    "\n",
    "The most dangerous air pollutant is NO2, Nitrogen Oxides. However, the top 5 most dangerous are NO2, Particulate Matter (PM10 and PM2.5), Ozone, Carbon Monoxide (CO), and Sulfur Dioxide (SO2).\n",
    "\n",
    "We will be evaluating the best neighborhood by this metric to see which neighborhood has the lowest average AQI for all five types of air pollutants. "
   ]
  },
  {
   "cell_type": "code",
   "execution_count": 4,
   "metadata": {},
   "outputs": [
    {
     "name": "stdout",
     "output_type": "stream",
     "text": [
      "['Harrison Township' 'Parkway East']\n"
     ]
    }
   ],
   "source": [
    "#sort by NO2\n",
    "NO2_query = dataset['parameter'] == \"NO2\"\n",
    "\n",
    "#sort by indices less than 10\n",
    "lessThanTen_query = dataset['index_value'] < 10\n",
    "\n",
    "\n",
    "#find both these qualities in dataset items\n",
    "items = dataset[NO2_query & lessThanTen_query]\n",
    "\n",
    "#sort by index value\n",
    "sortedItems= items.sort_values(by='index_value')\n",
    "\n",
    "#sort by unique site names\n",
    "unique_query= sortedItems['site'].unique()\n",
    "\n",
    "#print the sites with the lowest NO2 scores that are unique\n",
    "print(unique_query)"
   ]
  },
  {
   "cell_type": "markdown",
   "metadata": {},
   "source": [
    "## The two neighborhoods with the lowest Nitrogen Dioxide scores are: \n",
    "1. Harrison Township\n",
    "2. Parkway East"
   ]
  },
  {
   "cell_type": "markdown",
   "metadata": {},
   "source": [
    "## Now, let's do the same for the other pollutant types"
   ]
  },
  {
   "cell_type": "code",
   "execution_count": 5,
   "metadata": {},
   "outputs": [
    {
     "name": "stdout",
     "output_type": "stream",
     "text": [
      "['Avalon' 'North Braddock' 'South Fayette' 'Liberty' 'West Mifflin'\n",
      " 'Lawrenceville 2' 'Clairton']\n"
     ]
    }
   ],
   "source": [
    "#sort by SO2\n",
    "SO2_query = dataset['parameter'] == \"SO2\"\n",
    "\n",
    "#sort by indices less than 10\n",
    "lessThanTenSO2_query = dataset['index_value'] < 10\n",
    "\n",
    "\n",
    "#find both these qualities in dataset items\n",
    "itemSO2 = dataset[SO2_query & lessThanTenSO2_query]\n",
    "\n",
    "#sort by index value\n",
    "sortedItemSO2= itemSO2.sort_values(by='index_value')\n",
    "\n",
    "#sort by unique site names\n",
    "uniqueSO2_query= sortedItemSO2['site'].unique()\n",
    "\n",
    "#print the sites with the lowest SO2 scores that are unique\n",
    "print(uniqueSO2_query)"
   ]
  },
  {
   "cell_type": "markdown",
   "metadata": {},
   "source": [
    "## The neighborhoods with the lowest Sulfur Dioxide scores are: \n",
    "1. Avalon\n",
    "2. North Braddock\n",
    "3. South Fayette\n",
    "4. Liberty\n",
    "5. West Mifflin\n",
    "6. Lawrenceville\n",
    "7. Clairton"
   ]
  },
  {
   "cell_type": "markdown",
   "metadata": {},
   "source": [
    "We can see this with the following:"
   ]
  },
  {
   "cell_type": "code",
   "execution_count": 8,
   "metadata": {},
   "outputs": [
    {
     "data": {
      "text/html": [
       "<div>\n",
       "<style scoped>\n",
       "    .dataframe tbody tr th:only-of-type {\n",
       "        vertical-align: middle;\n",
       "    }\n",
       "\n",
       "    .dataframe tbody tr th {\n",
       "        vertical-align: top;\n",
       "    }\n",
       "\n",
       "    .dataframe thead th {\n",
       "        text-align: right;\n",
       "    }\n",
       "</style>\n",
       "<table border=\"1\" class=\"dataframe\">\n",
       "  <thead>\n",
       "    <tr style=\"text-align: right;\">\n",
       "      <th></th>\n",
       "      <th>_id</th>\n",
       "      <th>date</th>\n",
       "      <th>site</th>\n",
       "      <th>parameter</th>\n",
       "      <th>index_value</th>\n",
       "      <th>description</th>\n",
       "      <th>health_advisory</th>\n",
       "      <th>health_effects</th>\n",
       "    </tr>\n",
       "  </thead>\n",
       "  <tbody>\n",
       "    <tr>\n",
       "      <th>19151</th>\n",
       "      <td>19152</td>\n",
       "      <td>2018-05-15</td>\n",
       "      <td>Avalon</td>\n",
       "      <td>SO2</td>\n",
       "      <td>0</td>\n",
       "      <td>Good</td>\n",
       "      <td>NaN</td>\n",
       "      <td>NaN</td>\n",
       "    </tr>\n",
       "    <tr>\n",
       "      <th>13181</th>\n",
       "      <td>13182</td>\n",
       "      <td>2017-08-25</td>\n",
       "      <td>Avalon</td>\n",
       "      <td>SO2</td>\n",
       "      <td>0</td>\n",
       "      <td>Good</td>\n",
       "      <td>NaN</td>\n",
       "      <td>NaN</td>\n",
       "    </tr>\n",
       "    <tr>\n",
       "      <th>13187</th>\n",
       "      <td>13188</td>\n",
       "      <td>2017-08-25</td>\n",
       "      <td>North Braddock</td>\n",
       "      <td>SO2</td>\n",
       "      <td>0</td>\n",
       "      <td>Good</td>\n",
       "      <td>NaN</td>\n",
       "      <td>NaN</td>\n",
       "    </tr>\n",
       "    <tr>\n",
       "      <th>27887</th>\n",
       "      <td>27888</td>\n",
       "      <td>2019-05-28</td>\n",
       "      <td>Avalon</td>\n",
       "      <td>SO2</td>\n",
       "      <td>0</td>\n",
       "      <td>Good</td>\n",
       "      <td>NaN</td>\n",
       "      <td>NaN</td>\n",
       "    </tr>\n",
       "    <tr>\n",
       "      <th>50356</th>\n",
       "      <td>52513</td>\n",
       "      <td>2022-03-18</td>\n",
       "      <td>South Fayette</td>\n",
       "      <td>SO2</td>\n",
       "      <td>0</td>\n",
       "      <td>Good</td>\n",
       "      <td>NaN</td>\n",
       "      <td>NaN</td>\n",
       "    </tr>\n",
       "    <tr>\n",
       "      <th>13198</th>\n",
       "      <td>13199</td>\n",
       "      <td>2017-08-26</td>\n",
       "      <td>Avalon</td>\n",
       "      <td>SO2</td>\n",
       "      <td>0</td>\n",
       "      <td>Good</td>\n",
       "      <td>NaN</td>\n",
       "      <td>NaN</td>\n",
       "    </tr>\n",
       "    <tr>\n",
       "      <th>50324</th>\n",
       "      <td>52451</td>\n",
       "      <td>2022-03-12</td>\n",
       "      <td>North Braddock</td>\n",
       "      <td>SO2</td>\n",
       "      <td>0</td>\n",
       "      <td>Good</td>\n",
       "      <td>NaN</td>\n",
       "      <td>NaN</td>\n",
       "    </tr>\n",
       "    <tr>\n",
       "      <th>13202</th>\n",
       "      <td>13203</td>\n",
       "      <td>2017-08-26</td>\n",
       "      <td>North Braddock</td>\n",
       "      <td>SO2</td>\n",
       "      <td>0</td>\n",
       "      <td>Good</td>\n",
       "      <td>NaN</td>\n",
       "      <td>NaN</td>\n",
       "    </tr>\n",
       "    <tr>\n",
       "      <th>50315</th>\n",
       "      <td>52442</td>\n",
       "      <td>2022-03-09</td>\n",
       "      <td>North Braddock</td>\n",
       "      <td>SO2</td>\n",
       "      <td>0</td>\n",
       "      <td>Good</td>\n",
       "      <td>NaN</td>\n",
       "      <td>NaN</td>\n",
       "    </tr>\n",
       "    <tr>\n",
       "      <th>13216</th>\n",
       "      <td>13217</td>\n",
       "      <td>2017-08-27</td>\n",
       "      <td>Avalon</td>\n",
       "      <td>SO2</td>\n",
       "      <td>0</td>\n",
       "      <td>Good</td>\n",
       "      <td>NaN</td>\n",
       "      <td>NaN</td>\n",
       "    </tr>\n",
       "  </tbody>\n",
       "</table>\n",
       "</div>"
      ],
      "text/plain": [
       "         _id        date            site parameter  index_value description  \\\n",
       "19151  19152  2018-05-15          Avalon       SO2            0        Good   \n",
       "13181  13182  2017-08-25          Avalon       SO2            0        Good   \n",
       "13187  13188  2017-08-25  North Braddock       SO2            0        Good   \n",
       "27887  27888  2019-05-28          Avalon       SO2            0        Good   \n",
       "50356  52513  2022-03-18   South Fayette       SO2            0        Good   \n",
       "13198  13199  2017-08-26          Avalon       SO2            0        Good   \n",
       "50324  52451  2022-03-12  North Braddock       SO2            0        Good   \n",
       "13202  13203  2017-08-26  North Braddock       SO2            0        Good   \n",
       "50315  52442  2022-03-09  North Braddock       SO2            0        Good   \n",
       "13216  13217  2017-08-27          Avalon       SO2            0        Good   \n",
       "\n",
       "      health_advisory health_effects  \n",
       "19151             NaN            NaN  \n",
       "13181             NaN            NaN  \n",
       "13187             NaN            NaN  \n",
       "27887             NaN            NaN  \n",
       "50356             NaN            NaN  \n",
       "13198             NaN            NaN  \n",
       "50324             NaN            NaN  \n",
       "13202             NaN            NaN  \n",
       "50315             NaN            NaN  \n",
       "13216             NaN            NaN  "
      ]
     },
     "execution_count": 8,
     "metadata": {},
     "output_type": "execute_result"
    }
   ],
   "source": [
    "sortedItemSO2.head(10)"
   ]
  },
  {
   "cell_type": "code",
   "execution_count": 35,
   "metadata": {},
   "outputs": [
    {
     "name": "stdout",
     "output_type": "stream",
     "text": [
      "['Flag Plaza' 'Parkway East' 'Lawrenceville 2' 'North Braddock']\n"
     ]
    }
   ],
   "source": [
    "#sort by CO\n",
    "CO_query = dataset['parameter'] == \"CO\"\n",
    "\n",
    "#sort by indices less than 10\n",
    "lessThanTenCO_query = dataset['index_value'] < 10\n",
    "\n",
    "\n",
    "#find both these qualities in dataset items\n",
    "itemCO = dataset[CO_query & lessThanTenCO2_query]\n",
    "\n",
    "#sort by index value\n",
    "sortedItemCO= itemCO.sort_values(by='index_value')\n",
    "\n",
    "#sort by unique site names\n",
    "uniqueCO_query= sortedItemCO['site'].unique()\n",
    "#print the sites with the lowest SO2 scores that are unique\n",
    "print(uniqueCO_query)"
   ]
  },
  {
   "cell_type": "markdown",
   "metadata": {},
   "source": [
    "## The neighborhoods with the lowest Carbon Monoxide scores are: \n",
    "1. Flag Plaza\n",
    "2. Parkway East\n",
    "3. Lawrenceville\n",
    "7. North Braddock"
   ]
  },
  {
   "cell_type": "code",
   "execution_count": 22,
   "metadata": {},
   "outputs": [
    {
     "name": "stdout",
     "output_type": "stream",
     "text": [
      "['Harrison Township' 'Lawrenceville' 'South Fayette']\n"
     ]
    }
   ],
   "source": [
    "#sort by ozone\n",
    "ozone_query = dataset['parameter'] == \"OZONE\"\n",
    "\n",
    "#sort by indices less than 10\n",
    "lessThanTenOzone_query = dataset['index_value'] < 100\n",
    "\n",
    "\n",
    "#find both these qualities in dataset items\n",
    "itemOzone = dataset[ozone_query & lessThanTenOzone_query]\n",
    "\n",
    "#sort by index value\n",
    "sortedItemOzone= itemOzone.sort_values(by='index_value')\n",
    "\n",
    "#sort by unique site names\n",
    "uniqueOzone_query= sortedItemOzone['site'].unique()\n",
    "#print the sites with the lowest SO2 scores that are unique\n",
    "print(uniqueOzone_query)"
   ]
  },
  {
   "cell_type": "markdown",
   "metadata": {},
   "source": [
    "## The neighborhoods with the lowest ozone scores are: \n",
    "1. Harrison Township\n",
    "2. Lawrenceville\n",
    "3. South Fayette"
   ]
  },
  {
   "cell_type": "code",
   "execution_count": 37,
   "metadata": {},
   "outputs": [
    {
     "name": "stdout",
     "output_type": "stream",
     "text": [
      "['Flag Plaza' 'Lawrenceville' 'Liberty 2' 'Glassport High Street'\n",
      " 'Lincoln' 'North Braddock' 'Pittsburgh' 'Clairton' 'Avalon'\n",
      " 'Parkway East']\n"
     ]
    }
   ],
   "source": [
    "#sort by PM\n",
    "PM_query = dataset['parameter'].str.contains(\"PM\")\n",
    "\n",
    "#sort by indices less than 10\n",
    "lessThanTenPM_query = dataset['index_value'] < 10\n",
    "\n",
    "\n",
    "#find both these qualities in dataset items\n",
    "itemPM = dataset[PM_query & lessThanTenPM_query]\n",
    "\n",
    "#sort by index value\n",
    "sortedItemPM= itemPM.sort_values(by='index_value')\n",
    "\n",
    "#sort by unique site names\n",
    "uniquePM_query= sortedItemPM['site'].unique()\n",
    "#print the sites with the lowest SO2 scores that are unique\n",
    "print(uniquePM_query)"
   ]
  },
  {
   "cell_type": "markdown",
   "metadata": {},
   "source": [
    "## The neighborhoods with the lowest particulate matter scores are: \n",
    "1. Flag Plaza\n",
    "2. Lawrenceville\n",
    "3. Liberty\n",
    "4. Glassport High Street\n",
    "5. Lincoln\n",
    "6. North Braddock\n",
    "7. Pittsburgh\n",
    "8. Clairton\n",
    "9. Avalon\n",
    "10. Parkway East"
   ]
  },
  {
   "cell_type": "markdown",
   "metadata": {},
   "source": [
    "## Lastly, instead of doing individual metrics for each pollutant, we can also calculate the average overall AQI for each neighborhood. "
   ]
  },
  {
   "cell_type": "code",
   "execution_count": 19,
   "metadata": {},
   "outputs": [
    {
     "name": "stdout",
     "output_type": "stream",
     "text": [
      "Lawrenceville average AQI:  18.13\n",
      "Flag Plaza average AQI:  9.95\n",
      "Harrison Township average AQI:  24.29\n",
      "Avalon average AQI:  23.49\n",
      "Lincoln average AQI:  35.11\n",
      "South Fayette average AQI:  22.70\n",
      "North Braddock average AQI:  18.78\n",
      "Parkway East average AQI:  21.90\n",
      "Liberty 2 average AQI:  32.46\n",
      "Lawrenceville 2 average AQI:  3.06\n",
      "Glassport High Street average AQI:  17.45\n",
      "Liberty average AQI:  27.75\n",
      "Clairton average AQI:  25.84\n",
      "West Mifflin average AQI:  6.34\n",
      "Pittsburgh average AQI:  26.13\n"
     ]
    }
   ],
   "source": [
    "uniqueCities = dataset['site'].unique()\n",
    "\n",
    "for i in uniqueCities:\n",
    "    nameQuery = dataset[dataset['site'].str.contains(i, case=False)]\n",
    "    averageIndex = nameQuery['index_value'].mean()\n",
    "    print(i, \"average AQI: \", \"{:.2f}\".format(averageIndex))\n",
    "    \n"
   ]
  },
  {
   "cell_type": "markdown",
   "metadata": {},
   "source": [
    "## The neighborhoods with the lowest average AQI's are:\n",
    "\n",
    "1. Lawrenceville \n",
    "2. West Mifflin\n",
    "3. Flag Plaza\n",
    "4. Glassport High Street\n",
    "5. North Braddock"
   ]
  },
  {
   "cell_type": "code",
   "execution_count": null,
   "metadata": {},
   "outputs": [],
   "source": []
  }
 ],
 "metadata": {
  "kernelspec": {
   "display_name": "Python 3",
   "language": "python",
   "name": "python3"
  },
  "language_info": {
   "codemirror_mode": {
    "name": "ipython",
    "version": 3
   },
   "file_extension": ".py",
   "mimetype": "text/x-python",
   "name": "python",
   "nbconvert_exporter": "python",
   "pygments_lexer": "ipython3",
   "version": "3.8.3"
  }
 },
 "nbformat": 4,
 "nbformat_minor": 4
}
