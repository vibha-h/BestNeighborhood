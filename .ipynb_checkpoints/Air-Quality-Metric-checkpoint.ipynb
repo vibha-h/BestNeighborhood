{
 "cells": [
  {
   "cell_type": "code",
   "execution_count": 1,
   "metadata": {},
   "outputs": [],
   "source": [
    "import pandas as pd"
   ]
  },
  {
   "cell_type": "code",
   "execution_count": 5,
   "metadata": {},
   "outputs": [],
   "source": [
    "dataset =  pd.read_csv(\"Air-Quality.csv\", sep=\",\")"
   ]
  },
  {
   "cell_type": "markdown",
   "metadata": {},
   "source": [
    "First, we read in the dataset. Here is an example of the contents of the dataset: "
   ]
  },
  {
   "cell_type": "code",
   "execution_count": 7,
   "metadata": {},
   "outputs": [
    {
     "data": {
      "text/html": [
       "<div>\n",
       "<style scoped>\n",
       "    .dataframe tbody tr th:only-of-type {\n",
       "        vertical-align: middle;\n",
       "    }\n",
       "\n",
       "    .dataframe tbody tr th {\n",
       "        vertical-align: top;\n",
       "    }\n",
       "\n",
       "    .dataframe thead th {\n",
       "        text-align: right;\n",
       "    }\n",
       "</style>\n",
       "<table border=\"1\" class=\"dataframe\">\n",
       "  <thead>\n",
       "    <tr style=\"text-align: right;\">\n",
       "      <th></th>\n",
       "      <th>_id</th>\n",
       "      <th>date</th>\n",
       "      <th>site</th>\n",
       "      <th>parameter</th>\n",
       "      <th>index_value</th>\n",
       "      <th>description</th>\n",
       "      <th>health_advisory</th>\n",
       "      <th>health_effects</th>\n",
       "    </tr>\n",
       "  </thead>\n",
       "  <tbody>\n",
       "    <tr>\n",
       "      <th>22567</th>\n",
       "      <td>22568</td>\n",
       "      <td>2018-10-15</td>\n",
       "      <td>Parkway East</td>\n",
       "      <td>NO2</td>\n",
       "      <td>10</td>\n",
       "      <td>Good</td>\n",
       "      <td>NaN</td>\n",
       "      <td>NaN</td>\n",
       "    </tr>\n",
       "    <tr>\n",
       "      <th>2261</th>\n",
       "      <td>2262</td>\n",
       "      <td>2016-04-16</td>\n",
       "      <td>South Fayette</td>\n",
       "      <td>SO2</td>\n",
       "      <td>7</td>\n",
       "      <td>Good</td>\n",
       "      <td>NaN</td>\n",
       "      <td>NaN</td>\n",
       "    </tr>\n",
       "    <tr>\n",
       "      <th>25258</th>\n",
       "      <td>25259</td>\n",
       "      <td>2019-02-10</td>\n",
       "      <td>Harrison Township</td>\n",
       "      <td>OZONE</td>\n",
       "      <td>23</td>\n",
       "      <td>Good</td>\n",
       "      <td>NaN</td>\n",
       "      <td>NaN</td>\n",
       "    </tr>\n",
       "    <tr>\n",
       "      <th>57288</th>\n",
       "      <td>66088</td>\n",
       "      <td>2023-02-01</td>\n",
       "      <td>Avalon</td>\n",
       "      <td>PM25_640</td>\n",
       "      <td>56</td>\n",
       "      <td>Moderate</td>\n",
       "      <td>Unusually sensitive people should consider red...</td>\n",
       "      <td>Respiratory symptoms possible in unusually sen...</td>\n",
       "    </tr>\n",
       "    <tr>\n",
       "      <th>3523</th>\n",
       "      <td>3524</td>\n",
       "      <td>2016-06-13</td>\n",
       "      <td>Lawrenceville 2</td>\n",
       "      <td>CO</td>\n",
       "      <td>2</td>\n",
       "      <td>Good</td>\n",
       "      <td>NaN</td>\n",
       "      <td>NaN</td>\n",
       "    </tr>\n",
       "    <tr>\n",
       "      <th>56292</th>\n",
       "      <td>64587</td>\n",
       "      <td>2022-12-18</td>\n",
       "      <td>Lawrenceville 2</td>\n",
       "      <td>CO</td>\n",
       "      <td>2</td>\n",
       "      <td>Good</td>\n",
       "      <td>NaN</td>\n",
       "      <td>NaN</td>\n",
       "    </tr>\n",
       "    <tr>\n",
       "      <th>32943</th>\n",
       "      <td>32944</td>\n",
       "      <td>2019-12-18</td>\n",
       "      <td>Harrison Township</td>\n",
       "      <td>OZONE</td>\n",
       "      <td>25</td>\n",
       "      <td>Good</td>\n",
       "      <td>NaN</td>\n",
       "      <td>NaN</td>\n",
       "    </tr>\n",
       "    <tr>\n",
       "      <th>5032</th>\n",
       "      <td>5033</td>\n",
       "      <td>2016-08-21</td>\n",
       "      <td>Liberty 2</td>\n",
       "      <td>PM25(2)</td>\n",
       "      <td>26</td>\n",
       "      <td>Good</td>\n",
       "      <td>NaN</td>\n",
       "      <td>NaN</td>\n",
       "    </tr>\n",
       "    <tr>\n",
       "      <th>30455</th>\n",
       "      <td>30456</td>\n",
       "      <td>2019-09-09</td>\n",
       "      <td>Harrison Township</td>\n",
       "      <td>OZONE</td>\n",
       "      <td>30</td>\n",
       "      <td>Good</td>\n",
       "      <td>NaN</td>\n",
       "      <td>NaN</td>\n",
       "    </tr>\n",
       "    <tr>\n",
       "      <th>30619</th>\n",
       "      <td>30620</td>\n",
       "      <td>2019-09-16</td>\n",
       "      <td>Avalon</td>\n",
       "      <td>PM25T</td>\n",
       "      <td>45</td>\n",
       "      <td>Good</td>\n",
       "      <td>NaN</td>\n",
       "      <td>NaN</td>\n",
       "    </tr>\n",
       "  </tbody>\n",
       "</table>\n",
       "</div>"
      ],
      "text/plain": [
       "         _id        date               site parameter  index_value  \\\n",
       "22567  22568  2018-10-15       Parkway East       NO2           10   \n",
       "2261    2262  2016-04-16      South Fayette       SO2            7   \n",
       "25258  25259  2019-02-10  Harrison Township     OZONE           23   \n",
       "57288  66088  2023-02-01             Avalon  PM25_640           56   \n",
       "3523    3524  2016-06-13    Lawrenceville 2        CO            2   \n",
       "56292  64587  2022-12-18    Lawrenceville 2        CO            2   \n",
       "32943  32944  2019-12-18  Harrison Township     OZONE           25   \n",
       "5032    5033  2016-08-21          Liberty 2   PM25(2)           26   \n",
       "30455  30456  2019-09-09  Harrison Township     OZONE           30   \n",
       "30619  30620  2019-09-16             Avalon     PM25T           45   \n",
       "\n",
       "      description                                    health_advisory  \\\n",
       "22567        Good                                                NaN   \n",
       "2261         Good                                                NaN   \n",
       "25258        Good                                                NaN   \n",
       "57288    Moderate  Unusually sensitive people should consider red...   \n",
       "3523         Good                                                NaN   \n",
       "56292        Good                                                NaN   \n",
       "32943        Good                                                NaN   \n",
       "5032         Good                                                NaN   \n",
       "30455        Good                                                NaN   \n",
       "30619        Good                                                NaN   \n",
       "\n",
       "                                          health_effects  \n",
       "22567                                                NaN  \n",
       "2261                                                 NaN  \n",
       "25258                                                NaN  \n",
       "57288  Respiratory symptoms possible in unusually sen...  \n",
       "3523                                                 NaN  \n",
       "56292                                                NaN  \n",
       "32943                                                NaN  \n",
       "5032                                                 NaN  \n",
       "30455                                                NaN  \n",
       "30619                                                NaN  "
      ]
     },
     "execution_count": 7,
     "metadata": {},
     "output_type": "execute_result"
    }
   ],
   "source": [
    "dataset.sample(10)"
   ]
  },
  {
   "cell_type": "markdown",
   "metadata": {},
   "source": [
    "To find the best neighborhood in Pittsburgh with the metric of air quality, we will be evaluating the Air Quality Index for each parameter. The Air Quality Index(AQI) is a standard measurement developed by government agencies to communicate to the public how polluted the air is. The higher the number, the more polluted the air is. \n",
    "\n",
    "As you can see, there are different parameters and AQI measurements for each. Examples of this include ozone, CO, NO2, and SO2. \n",
    "\n",
    "The most dangerous air pollutant is NO2, Nitrogen Oxides. However, the top 5 most dangerous are NO2, Particulate Matter (PM10 and PM2.5), Ozone, Carbon Monoxide (CO), and Sulfur Dioxide (SO2).\n",
    "\n",
    "We will be evaluating the best neighborhood by this metric to see which neighborhood has the lowest average AQI for all five types of air pollutants. "
   ]
  },
  {
   "cell_type": "code",
   "execution_count": 19,
   "metadata": {},
   "outputs": [],
   "source": [
    "NO2_query = dataset[dataset['parameter'].str.contains('NO2', case=False)]"
   ]
  },
  {
   "cell_type": "code",
   "execution_count": 15,
   "metadata": {},
   "outputs": [],
   "source": [
    "NO2_topten = NO2_query['index_value'] < 10"
   ]
  },
  {
   "cell_type": "code",
   "execution_count": 17,
   "metadata": {},
   "outputs": [
    {
     "name": "stdout",
     "output_type": "stream",
     "text": [
      "13        True\n",
      "14        True\n",
      "26        True\n",
      "39       False\n",
      "43       False\n",
      "         ...  \n",
      "63642    False\n",
      "63643    False\n",
      "63658    False\n",
      "63659    False\n",
      "63660    False\n",
      "Name: index_value, Length: 6225, dtype: bool\n"
     ]
    }
   ],
   "source": [
    "print(NO2_topten)"
   ]
  },
  {
   "cell_type": "code",
   "execution_count": null,
   "metadata": {},
   "outputs": [],
   "source": []
  }
 ],
 "metadata": {
  "kernelspec": {
   "display_name": "Python 3",
   "language": "python",
   "name": "python3"
  },
  "language_info": {
   "codemirror_mode": {
    "name": "ipython",
    "version": 3
   },
   "file_extension": ".py",
   "mimetype": "text/x-python",
   "name": "python",
   "nbconvert_exporter": "python",
   "pygments_lexer": "ipython3",
   "version": "3.8.3"
  }
 },
 "nbformat": 4,
 "nbformat_minor": 4
}
